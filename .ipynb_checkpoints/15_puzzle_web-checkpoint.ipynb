{
 "cells": [
  {
   "cell_type": "code",
   "execution_count": 66,
   "metadata": {},
   "outputs": [],
   "source": [
    "from selenium import webdriver\n",
    "from selenium.webdriver.common.keys import Keys\n",
    "from class_15_puzzle import puzzle_board\n",
    "from time import sleep, time"
   ]
  },
  {
   "cell_type": "code",
   "execution_count": 2,
   "metadata": {},
   "outputs": [],
   "source": [
    "browser = webdriver.Chrome('chromedriver')\n",
    "browser.get('https://15puzzle.netlify.com/')"
   ]
  },
  {
   "cell_type": "code",
   "execution_count": 62,
   "metadata": {},
   "outputs": [],
   "source": [
    "puzzle = [[0 for i in range(4)] for i in range(4)]"
   ]
  },
  {
   "cell_type": "code",
   "execution_count": 67,
   "metadata": {},
   "outputs": [
    {
     "name": "stdout",
     "output_type": "stream",
     "text": [
      "5 13 4 10 \n",
      "7 2 1 14 \n",
      "15 6 3 0 \n",
      "12 8 11 9 \n"
     ]
    }
   ],
   "source": [
    "xpath_root = '//*[@id=\"root\"]/div/div/div[2]/div[2]'\n",
    "for row in range(4):\n",
    "    for column in range(4):\n",
    "        pos_div = row*4 + column + 1\n",
    "        xpath = f'{xpath_root}/div[{pos_div}]/div/div[3]'\n",
    "        element = browser.find_element_by_xpath(xpath)\n",
    "        str_block = element.get_attribute('innerHTML')\n",
    "        puzzle[row][column] = int(str_block)\n",
    "        print(str_block,end = ' ')\n",
    "    print()"
   ]
  },
  {
   "cell_type": "code",
   "execution_count": 68,
   "metadata": {},
   "outputs": [
    {
     "name": "stdout",
     "output_type": "stream",
     "text": [
      "5 13 4 10 \n",
      "7 2 1 14 \n",
      "15 6 3 0 \n",
      "12 8 11 9 \n",
      "\n"
     ]
    }
   ],
   "source": [
    "board = puzzle_board(puzzle)\n",
    "board.show_board()"
   ]
  },
  {
   "cell_type": "code",
   "execution_count": 69,
   "metadata": {},
   "outputs": [
    {
     "data": {
      "text/plain": [
       "6.666666666666668"
      ]
     },
     "execution_count": 69,
     "metadata": {},
     "output_type": "execute_result"
    }
   ],
   "source": [
    "board.relative_score()"
   ]
  },
  {
   "cell_type": "code",
   "execution_count": 70,
   "metadata": {},
   "outputs": [
    {
     "name": "stdout",
     "output_type": "stream",
     "text": [
      "1000\n",
      "2000\n",
      "3000\n",
      "4000\n",
      "5000\n",
      "1 2 3 4 \n",
      "5 6 7 8 \n",
      "9 10 11 12 \n",
      "13 14 15 0 \n",
      "\n"
     ]
    }
   ],
   "source": [
    "board.solve_naive()"
   ]
  },
  {
   "cell_type": "code",
   "execution_count": 43,
   "metadata": {},
   "outputs": [
    {
     "data": {
      "text/plain": [
       "'21122031200312003121133302002111300211200331122030211300021130211300213303122200312130031302221312003112130021312003121'"
      ]
     },
     "execution_count": 43,
     "metadata": {},
     "output_type": "execute_result"
    }
   ],
   "source": [
    "board.show_sequence_string()"
   ]
  },
  {
   "cell_type": "code",
   "execution_count": null,
   "metadata": {},
   "outputs": [],
   "source": [
    "move_dict_rev = {0 : 'down', 1 : 'up', 2 : 'left', 3 : 'right'}"
   ]
  },
  {
   "cell_type": "code",
   "execution_count": 15,
   "metadata": {},
   "outputs": [],
   "source": [
    "def move_num(num):\n",
    "    if num == 0:\n",
    "        element.send_keys(Keys.ARROW_DOWN)\n",
    "    elif num == 1:\n",
    "        element.send_keys(Keys.ARROW_UP)\n",
    "    elif num == 2:\n",
    "        element.send_keys(Keys.ARROW_LEFT)\n",
    "    elif num == 3:\n",
    "        element.send_keys(Keys.ARROW_RIGHT)"
   ]
  },
  {
   "cell_type": "code",
   "execution_count": 17,
   "metadata": {},
   "outputs": [],
   "source": [
    "move_num(1)\n",
    "sleep(1)\n",
    "move_num(0)\n",
    "sleep(1)\n",
    "move_num(2)\n",
    "sleep(1)\n",
    "move_num(3)"
   ]
  },
  {
   "cell_type": "code",
   "execution_count": 71,
   "metadata": {},
   "outputs": [],
   "source": [
    "xpath_root = '/html/body'\n",
    "element = browser.find_element_by_xpath(xpath_root)\n",
    "element.click()\n",
    "\n",
    "list_move = board.show_sequence_string()\n",
    "for move in list_move:\n",
    "    move_num(int(move))"
   ]
  },
  {
   "cell_type": "code",
   "execution_count": 81,
   "metadata": {},
   "outputs": [
    {
     "name": "stdout",
     "output_type": "stream",
     "text": [
      "5 10 14 12 \n",
      "8 1 11 4 \n",
      "0 7 3 15 \n",
      "9 13 6 2 \n",
      "\n",
      "1000\n",
      "2000\n",
      "3000\n",
      "4000\n",
      "5000\n",
      "6000\n",
      "7000\n",
      "8000\n",
      "9000\n",
      "10000\n",
      "11000\n",
      "12000\n",
      "13000\n",
      "14000\n",
      "15000\n",
      "16000\n",
      "17000\n",
      "18000\n",
      "19000\n",
      "20000\n",
      "1 2 3 4 \n",
      "5 6 7 8 \n",
      "9 10 11 12 \n",
      "13 14 15 0 \n",
      "\n",
      "\n",
      "Elapased time: 27.49967312812805\n"
     ]
    }
   ],
   "source": [
    "start = time()\n",
    "\n",
    "puzzle = [[0 for i in range(4)] for i in range(4)]\n",
    "\n",
    "xpath_root = '//*[@id=\"root\"]/div/div/div[2]/div[2]'\n",
    "for row in range(4):\n",
    "    for column in range(4):\n",
    "        pos_div = row*4 + column + 1\n",
    "        xpath = f'{xpath_root}/div[{pos_div}]/div/div[3]'\n",
    "        element = browser.find_element_by_xpath(xpath)\n",
    "        str_block = element.get_attribute('innerHTML')\n",
    "        puzzle[row][column] = int(str_block)\n",
    "        print(str_block,end = ' ')\n",
    "    print()\n",
    "\n",
    "board = puzzle_board(puzzle)\n",
    "\n",
    "print()\n",
    "\n",
    "board.solve_naive()\n",
    "\n",
    "xpath_root = '/html/body'\n",
    "element = browser.find_element_by_xpath(xpath_root)\n",
    "element.click()\n",
    "\n",
    "list_move = board.show_sequence_string()\n",
    "for move in list_move:\n",
    "    move_num(int(move))\n",
    "\n",
    "print('\\nElapased time:', time()-start)"
   ]
  },
  {
   "cell_type": "code",
   "execution_count": null,
   "metadata": {},
   "outputs": [],
   "source": []
  }
 ],
 "metadata": {
  "kernelspec": {
   "display_name": "Python 3",
   "language": "python",
   "name": "python3"
  },
  "language_info": {
   "codemirror_mode": {
    "name": "ipython",
    "version": 3
   },
   "file_extension": ".py",
   "mimetype": "text/x-python",
   "name": "python",
   "nbconvert_exporter": "python",
   "pygments_lexer": "ipython3",
   "version": "3.7.1"
  }
 },
 "nbformat": 4,
 "nbformat_minor": 2
}
