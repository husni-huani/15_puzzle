{
 "cells": [
  {
   "cell_type": "code",
   "execution_count": 1,
   "metadata": {},
   "outputs": [],
   "source": [
    "from selenium import webdriver\n",
    "from selenium.webdriver.common.keys import Keys\n",
    "from class_15_puzzle import puzzle_board\n",
    "from time import sleep, time"
   ]
  },
  {
   "cell_type": "code",
   "execution_count": 4,
   "metadata": {},
   "outputs": [],
   "source": [
    "browser = webdriver.Chrome('chromedriver')\n",
    "browser.get('https://15puzzle.netlify.com/')"
   ]
  },
  {
   "cell_type": "code",
   "execution_count": 51,
   "metadata": {},
   "outputs": [],
   "source": [
    "puzzle = [[0 for i in range(4)] for i in range(4)]"
   ]
  },
  {
   "cell_type": "code",
   "execution_count": 52,
   "metadata": {},
   "outputs": [
    {
     "name": "stdout",
     "output_type": "stream",
     "text": [
      "14 7 5 0 \n",
      "10 11 6 8 \n",
      "13 1 4 15 \n",
      "9 2 3 12 \n"
     ]
    }
   ],
   "source": [
    "xpath_root = '//*[@id=\"root\"]/div/div/div[2]/div[2]'\n",
    "for row in range(4):\n",
    "    for column in range(4):\n",
    "        pos_div = row*4 + column + 1\n",
    "        xpath = f'{xpath_root}/div[{pos_div}]/div/div[3]'\n",
    "        element = browser.find_element_by_xpath(xpath)\n",
    "        str_block = element.get_attribute('innerHTML')\n",
    "        puzzle[row][column] = int(str_block)\n",
    "        print(str_block,end = ' ')\n",
    "    print()"
   ]
  },
  {
   "cell_type": "code",
   "execution_count": 53,
   "metadata": {},
   "outputs": [
    {
     "name": "stdout",
     "output_type": "stream",
     "text": [
      "14 7 5 0 \n",
      "10 11 6 8 \n",
      "13 1 4 15 \n",
      "9 2 3 12 \n",
      "\n"
     ]
    }
   ],
   "source": [
    "board = puzzle_board(puzzle)\n",
    "board.show_board()"
   ]
  },
  {
   "cell_type": "code",
   "execution_count": 54,
   "metadata": {},
   "outputs": [
    {
     "data": {
      "text/plain": [
       "5.666666666666667"
      ]
     },
     "execution_count": 54,
     "metadata": {},
     "output_type": "execute_result"
    }
   ],
   "source": [
    "board.relative_score()"
   ]
  },
  {
   "cell_type": "code",
   "execution_count": 24,
   "metadata": {},
   "outputs": [
    {
     "name": "stdout",
     "output_type": "stream",
     "text": [
      "1000\n",
      "2000\n",
      "3000\n",
      "4000\n",
      "1 2 3 4 \n",
      "5 6 7 8 \n",
      "9 10 11 12 \n",
      "13 14 15 0 \n",
      "\n"
     ]
    }
   ],
   "source": [
    "board.solve_naive()"
   ]
  },
  {
   "cell_type": "code",
   "execution_count": 31,
   "metadata": {},
   "outputs": [
    {
     "data": {
      "text/plain": [
       "'20312003120203121303130021120302213121330312003112220033120213302031212133302120021312003133002113021213302120330203112030211302031112021330221203312021330212'"
      ]
     },
     "execution_count": 31,
     "metadata": {},
     "output_type": "execute_result"
    }
   ],
   "source": [
    "board.show_sequence_string()"
   ]
  },
  {
   "cell_type": "code",
   "execution_count": 12,
   "metadata": {},
   "outputs": [],
   "source": [
    "move_dict_rev = {0 : 'down', 1 : 'up', 2 : 'left', 3 : 'right'}"
   ]
  },
  {
   "cell_type": "code",
   "execution_count": 13,
   "metadata": {},
   "outputs": [],
   "source": [
    "def move_num(num):\n",
    "    if num == 0:\n",
    "        element.send_keys(Keys.ARROW_DOWN)\n",
    "    elif num == 1:\n",
    "        element.send_keys(Keys.ARROW_UP)\n",
    "    elif num == 2:\n",
    "        element.send_keys(Keys.ARROW_LEFT)\n",
    "    elif num == 3:\n",
    "        element.send_keys(Keys.ARROW_RIGHT)"
   ]
  },
  {
   "cell_type": "code",
   "execution_count": 17,
   "metadata": {},
   "outputs": [],
   "source": [
    "move_num(1)\n",
    "sleep(1)\n",
    "move_num(0)\n",
    "sleep(1)\n",
    "move_num(2)\n",
    "sleep(1)\n",
    "move_num(3)"
   ]
  },
  {
   "cell_type": "code",
   "execution_count": 26,
   "metadata": {},
   "outputs": [],
   "source": [
    "xpath_root = '/html/body'\n",
    "element = browser.find_element_by_xpath(xpath_root)\n",
    "element.click()\n",
    "\n",
    "list_move = board.show_sequence_string()\n",
    "for move in list_move:\n",
    "    move_num(int(move))\n",
    "    sleep(0.2)"
   ]
  },
  {
   "cell_type": "code",
   "execution_count": 56,
   "metadata": {},
   "outputs": [
    {
     "name": "stdout",
     "output_type": "stream",
     "text": [
      "0 3 11 4 \n",
      "14 5 12 15 \n",
      "13 8 10 2 \n",
      "1 9 6 7 \n",
      "\n",
      "1000\n",
      "2000\n",
      "3000\n",
      "4000\n",
      "5000\n",
      "6000\n",
      "7000\n",
      "8000\n",
      "9000\n",
      "10000\n",
      "11000\n",
      "12000\n",
      "13000\n",
      "14000\n",
      "15000\n",
      "16000\n",
      "17000\n",
      "18000\n",
      "19000\n",
      "20000\n",
      "21000\n",
      "22000\n",
      "23000\n",
      "24000\n",
      "25000\n",
      "26000\n",
      "27000\n",
      "28000\n",
      "29000\n",
      "30000\n",
      "31000\n",
      "32000\n",
      "33000\n",
      "34000\n",
      "35000\n",
      "36000\n",
      "37000\n",
      "38000\n",
      "39000\n",
      "40000\n",
      "41000\n",
      "42000\n",
      "43000\n",
      "44000\n",
      "1 2 3 4 \n",
      "5 6 7 8 \n",
      "9 10 11 12 \n",
      "13 14 15 0 \n",
      "\n",
      "\n",
      "Elapased time: 126.2271831035614\n"
     ]
    }
   ],
   "source": [
    "start = time()\n",
    "\n",
    "puzzle = [[0 for i in range(4)] for i in range(4)]\n",
    "\n",
    "xpath_root = '//*[@id=\"root\"]/div/div/div[2]/div[2]'\n",
    "for row in range(4):\n",
    "    for column in range(4):\n",
    "        pos_div = row*4 + column + 1\n",
    "        xpath = f'{xpath_root}/div[{pos_div}]/div/div[3]'\n",
    "        element = browser.find_element_by_xpath(xpath)\n",
    "        str_block = element.get_attribute('innerHTML')\n",
    "        puzzle[row][column] = int(str_block)\n",
    "        print(str_block,end = ' ')\n",
    "    print()\n",
    "\n",
    "board = puzzle_board(puzzle)\n",
    "\n",
    "print()\n",
    "\n",
    "board.solve_naive()\n",
    "\n",
    "xpath_root = '/html/body'\n",
    "element = browser.find_element_by_xpath(xpath_root)\n",
    "element.click()\n",
    "\n",
    "list_move = board.show_sequence_string()\n",
    "for move in list_move:\n",
    "    move_num(int(move))\n",
    "\n",
    "print('\\nElapased time:', time()-start)"
   ]
  },
  {
   "cell_type": "code",
   "execution_count": null,
   "metadata": {},
   "outputs": [],
   "source": []
  }
 ],
 "metadata": {
  "kernelspec": {
   "display_name": "Python 3",
   "language": "python",
   "name": "python3"
  },
  "language_info": {
   "codemirror_mode": {
    "name": "ipython",
    "version": 3
   },
   "file_extension": ".py",
   "mimetype": "text/x-python",
   "name": "python",
   "nbconvert_exporter": "python",
   "pygments_lexer": "ipython3",
   "version": "3.7.1"
  }
 },
 "nbformat": 4,
 "nbformat_minor": 2
}
